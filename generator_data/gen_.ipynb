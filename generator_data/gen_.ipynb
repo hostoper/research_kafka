{
 "cells": [
  {
   "cell_type": "code",
   "execution_count": null,
   "metadata": {},
   "outputs": [],
   "source": [
    "!pip install pandas python-dotenv\n",
    "! pip install cx_Oracle sqlalchemy"
   ]
  },
  {
   "cell_type": "code",
   "execution_count": 19,
   "metadata": {},
   "outputs": [],
   "source": [
    "from dotenv import load_dotenv\n",
    "load_dotenv('.env')\n",
    "\n",
    "import os\n",
    "hostname = os.getenv('hostname')\n",
    "port = os.getenv('port')\n",
    "sid = os.getenv('sid')\n",
    "service_name = os.getenv('service_name')\n",
    "username = os.getenv('username')\n",
    "password = os.getenv('password')"
   ]
  },
  {
   "cell_type": "code",
   "execution_count": null,
   "metadata": {},
   "outputs": [],
   "source": [
    "import pandas as pd \n",
    "import time"
   ]
  },
  {
   "cell_type": "code",
   "execution_count": null,
   "metadata": {},
   "outputs": [],
   "source": [
    "df = pd.read_csv('./transaction_data.csv')\n",
    "# fix format time \n",
    "df[\"TransactionTime\"] = pd.to_datetime(df['TransactionTime'])\n",
    "df = df.sort_values(by='TransactionTime', ascending=True)"
   ]
  },
  {
   "cell_type": "code",
   "execution_count": null,
   "metadata": {},
   "outputs": [],
   "source": [
    "df.head()"
   ]
  },
  {
   "cell_type": "code",
   "execution_count": 20,
   "metadata": {},
   "outputs": [],
   "source": [
    "from sqlalchemy import create_engine\n",
    "import cx_Oracle\n",
    "\n",
    "# Set up the Oracle connection\n",
    "dsn = cx_Oracle.makedsn(host=hostname, port=port, service_name=service_name) # result: (DESCRIPTION=(ADDRESS=(PROTOCOL=TCP)(HOST=localhost)(PORT=1521))(CONNECT_DATA=(SERVICE_NAME=ORCLPDB1)))\n",
    "connection = cx_Oracle.connect(user=username, password=password, dsn=dsn)\n",
    "\n",
    "# Create an SQLAlchemy engine\n",
    "engine = create_engine(f'oracle+cx_oracle://{username}:{password}@{dsn}')"
   ]
  },
  {
   "cell_type": "code",
   "execution_count": 21,
   "metadata": {},
   "outputs": [
    {
     "name": "stdout",
     "output_type": "stream",
     "text": [
      "Test connection query\n"
     ]
    },
    {
     "data": {
      "text/html": [
       "<div>\n",
       "<style scoped>\n",
       "    .dataframe tbody tr th:only-of-type {\n",
       "        vertical-align: middle;\n",
       "    }\n",
       "\n",
       "    .dataframe tbody tr th {\n",
       "        vertical-align: top;\n",
       "    }\n",
       "\n",
       "    .dataframe thead th {\n",
       "        text-align: right;\n",
       "    }\n",
       "</style>\n",
       "<table border=\"1\" class=\"dataframe\">\n",
       "  <thead>\n",
       "    <tr style=\"text-align: right;\">\n",
       "      <th></th>\n",
       "      <th>id</th>\n",
       "      <th>name</th>\n",
       "      <th>description</th>\n",
       "      <th>weight</th>\n",
       "    </tr>\n",
       "  </thead>\n",
       "  <tbody>\n",
       "    <tr>\n",
       "      <th>0</th>\n",
       "      <td>101</td>\n",
       "      <td>scooter</td>\n",
       "      <td>Small 2-wheel scooter</td>\n",
       "      <td>3.14</td>\n",
       "    </tr>\n",
       "  </tbody>\n",
       "</table>\n",
       "</div>"
      ],
      "text/plain": [
       "    id     name            description  weight\n",
       "0  101  scooter  Small 2-wheel scooter    3.14"
      ]
     },
     "execution_count": 21,
     "metadata": {},
     "output_type": "execute_result"
    }
   ],
   "source": [
    "\n",
    "print(\"Test connection query\")\n",
    "pd.read_sql_query(\"SELECT * FROM DEBEZIUM.PRODUCTS\", engine).head(1)"
   ]
  },
  {
   "cell_type": "code",
   "execution_count": 22,
   "metadata": {},
   "outputs": [],
   "source": [
    "from sqlalchemy.dialects.oracle import (\n",
    "                                        FLOAT,\n",
    "                                        NUMBER,\n",
    "                                        VARCHAR2,\n",
    "                                        DATE\n",
    "                                        )\n",
    "\n",
    "dtype = {\"UserId\" : NUMBER,\n",
    "         \"TransactionId\" : NUMBER,      \n",
    "         \"TransactionTime\": DATE,\n",
    "         \"ItemCode\": NUMBER,\n",
    "         \"ItemDescription\": VARCHAR2(255),\n",
    "         \"NumberOfItemsPurchased\": NUMBER,\n",
    "         \"CostPerItem\": FLOAT,\n",
    "         \"Country\": VARCHAR2(124),\n",
    "        }"
   ]
  },
  {
   "cell_type": "code",
   "execution_count": null,
   "metadata": {},
   "outputs": [],
   "source": [
    "# # Define the table name and schema\n",
    "# table_name = 'test_table'\n",
    "# schema_name = 'C##KEVIN'"
   ]
  },
  {
   "cell_type": "markdown",
   "metadata": {},
   "source": [
    "Update : \n",
    "- Import data transaksi was down,\n",
    "- make looping for insert data oracle, for testing cdc with delay 10 second"
   ]
  },
  {
   "cell_type": "code",
   "execution_count": 23,
   "metadata": {},
   "outputs": [],
   "source": [
    "table_name = \"TRANSACTIONS\"\n",
    "schema_name = 'DEBEZIUM'"
   ]
  },
  {
   "cell_type": "code",
   "execution_count": 24,
   "metadata": {},
   "outputs": [],
   "source": [
    "# runing query in oracle\n",
    "from sqlalchemy import create_engine, Table, MetaData, Column, Integer, String, Float, Date\n",
    "\n",
    "# Initialize metadata object\n",
    "metadata = MetaData()\n",
    "\n",
    "# Define the table\n",
    "table = Table(\n",
    "   table_name, metadata, \n",
    "   Column('UserId', Integer), \n",
    "   Column('TransactionId', Integer),\n",
    "   Column('TransactionTime', Date),\n",
    "   Column('ItemCode', Integer),\n",
    "   Column('ItemDescription', String(255)),\n",
    "   Column('NumberOfItemsPurchased', Integer),\n",
    "   Column('CostPerItem', Float),\n",
    "   Column('Country', String(124)),\n",
    "   schema=schema_name\n",
    ")\n",
    "\n",
    "# Create the table\n",
    "metadata.create_all(engine)"
   ]
  },
  {
   "cell_type": "markdown",
   "metadata": {},
   "source": [
    "Grant that table was create for make able to CDC to kafka"
   ]
  },
  {
   "cell_type": "code",
   "execution_count": 25,
   "metadata": {},
   "outputs": [
    {
     "name": "stdout",
     "output_type": "stream",
     "text": [
      "Permissions granted successfully on DEBEZIUM.TRANSACTIONS to c##dbzuser\n",
      "Table DEBEZIUM.TRANSACTIONS altered successfully\n"
     ]
    }
   ],
   "source": [
    "from sqlalchemy import text\n",
    "\n",
    "# Connect to the database\n",
    "connection = engine.connect()\n",
    "\n",
    "# Define your SQL queries\n",
    "sql_query1 = text(f\"GRANT SELECT ON {schema_name}.{table_name} TO c##dbzuser\")\n",
    "sql_query2 = text(f\"ALTER TABLE {schema_name}.{table_name} ADD SUPPLEMENTAL LOG DATA (ALL) COLUMNS\")\n",
    "\n",
    "# Execute the queries\n",
    "connection.execute(sql_query1)\n",
    "print(f\"Permissions granted successfully on {schema_name}.{table_name} to c##dbzuser\")\n",
    "\n",
    "connection.execute(sql_query2)\n",
    "print(f\"Table {schema_name}.{table_name} altered successfully\")\n"
   ]
  },
  {
   "cell_type": "code",
   "execution_count": null,
   "metadata": {},
   "outputs": [],
   "source": [
    "# Export the DataFrame to the Oracle database\n",
    "\n",
    "# Connect to the database\n",
    "connection = engine.connect()\n",
    "\n",
    "print(\"Import bulk data to Oracle database\")\n",
    "df.to_sql(table_name, connection, schema=schema_name, if_exists='append', index=False, dtype=dtype)\n"
   ]
  },
  {
   "cell_type": "code",
   "execution_count": 27,
   "metadata": {},
   "outputs": [
    {
     "name": "stdout",
     "output_type": "stream",
     "text": [
      "Inserted row 538324 into transactions\n",
      "Inserted row 933959 into transactions\n",
      "Inserted row 577479 into transactions\n",
      "Inserted row 846357 into transactions\n",
      "Inserted row 55170 into transactions\n",
      "Inserted row 635174 into transactions\n",
      "Inserted row 1024277 into transactions\n",
      "Inserted row 466406 into transactions\n",
      "Inserted row 323264 into transactions\n",
      "Inserted row 918917 into transactions\n",
      "Inserted row 412256 into transactions\n",
      "Inserted row 920592 into transactions\n"
     ]
    },
    {
     "ename": "KeyboardInterrupt",
     "evalue": "",
     "output_type": "error",
     "traceback": [
      "\u001b[0;31m---------------------------------------------------------------------------\u001b[0m",
      "\u001b[0;31mKeyboardInterrupt\u001b[0m                         Traceback (most recent call last)",
      "Cell \u001b[0;32mIn[27], line 7\u001b[0m\n\u001b[1;32m      5\u001b[0m row_df\u001b[38;5;241m.\u001b[39mto_sql(lower_case_table_name, connection, schema\u001b[38;5;241m=\u001b[39mschema_name, if_exists\u001b[38;5;241m=\u001b[39m\u001b[38;5;124m'\u001b[39m\u001b[38;5;124mappend\u001b[39m\u001b[38;5;124m'\u001b[39m, index\u001b[38;5;241m=\u001b[39m\u001b[38;5;28;01mFalse\u001b[39;00m, dtype\u001b[38;5;241m=\u001b[39mdtype)\n\u001b[1;32m      6\u001b[0m \u001b[38;5;28mprint\u001b[39m(\u001b[38;5;124mf\u001b[39m\u001b[38;5;124m\"\u001b[39m\u001b[38;5;124mInserted row \u001b[39m\u001b[38;5;132;01m{\u001b[39;00mi\u001b[38;5;250m \u001b[39m\u001b[38;5;241m+\u001b[39m\u001b[38;5;250m \u001b[39m\u001b[38;5;241m1\u001b[39m\u001b[38;5;132;01m}\u001b[39;00m\u001b[38;5;124m into \u001b[39m\u001b[38;5;132;01m{\u001b[39;00mlower_case_table_name\u001b[38;5;132;01m}\u001b[39;00m\u001b[38;5;124m\"\u001b[39m)\n\u001b[0;32m----> 7\u001b[0m \u001b[43mtime\u001b[49m\u001b[38;5;241;43m.\u001b[39;49m\u001b[43msleep\u001b[49m\u001b[43m(\u001b[49m\u001b[38;5;241;43m1\u001b[39;49m\u001b[43m)\u001b[49m \u001b[38;5;66;03m# Wait for 1 second\u001b[39;00m\n",
      "\u001b[0;31mKeyboardInterrupt\u001b[0m: "
     ]
    }
   ],
   "source": [
    "with engine.connect() as connection:\n",
    "    for i, row in df.iterrows():\n",
    "        row_df = pd.DataFrame(row).T # Transform the row into a DataFrame\n",
    "        lower_case_table_name = table_name.lower() # Convert table name to lower case\n",
    "        row_df.to_sql(lower_case_table_name, connection, schema=schema_name, if_exists='append', index=False, dtype=dtype)\n",
    "        print(f\"Inserted row {i + 1} into {lower_case_table_name}\")\n",
    "        time.sleep(1) # Wait for 1 second"
   ]
  },
  {
   "cell_type": "code",
   "execution_count": null,
   "metadata": {},
   "outputs": [],
   "source": [
    "# Close the connection  \n",
    "connection.close()"
   ]
  }
 ],
 "metadata": {
  "kernelspec": {
   "display_name": "Python 3",
   "language": "python",
   "name": "python3"
  },
  "language_info": {
   "codemirror_mode": {
    "name": "ipython",
    "version": 3
   },
   "file_extension": ".py",
   "mimetype": "text/x-python",
   "name": "python",
   "nbconvert_exporter": "python",
   "pygments_lexer": "ipython3",
   "version": "3.10.12"
  }
 },
 "nbformat": 4,
 "nbformat_minor": 2
}
